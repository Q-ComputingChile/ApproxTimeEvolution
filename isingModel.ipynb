{
 "cells": [
  {
   "cell_type": "code",
   "execution_count": 2,
   "source": [
    "import torch\r\n",
    "from torch.autograd import Variable\r\n",
    "import pennylane as qml\r\n",
    "from pennylane import numpy as np"
   ],
   "outputs": [],
   "metadata": {}
  },
  {
   "cell_type": "code",
   "execution_count": 3,
   "source": [
    "dev = qml.device(\"default.qubit\", wires=6)\r\n",
    "@qml.qnode(dev, interface=\"torch\") \r\n",
    "def circuit(p1, p2):\r\n",
    "    # We use the general Rot(phi,theta,omega,wires) single-qubit operation\r\n",
    "    qml.Rot(p1[0], p1[1], p1[2], wires=1)\r\n",
    "    qml.Rot(p2[0], p2[1], p2[2], wires=2)\r\n",
    "    return [qml.expval(qml.PauliZ(i)) for i in range(6)]\r\n"
   ],
   "outputs": [],
   "metadata": {}
  },
  {
   "cell_type": "code",
   "execution_count": 4,
   "source": [
    "def cost(var1, var2):\r\n",
    "    # the circuit function returns a numpy array of Pauli-Z expectation values\r\n",
    "    spins = circuit(var1, var2)\r\n",
    "\r\n",
    "    # the expectation value of Pauli-Z is +1 for spin up and -1 for spin down\r\n",
    "    energy = -(1 * spins[0] * spins[1]) - (-1 * spins[1] * spins[2])\r\n",
    "    return energy\r\n"
   ],
   "outputs": [],
   "metadata": {}
  },
  {
   "cell_type": "code",
   "execution_count": 5,
   "source": [
    "test1 = torch.tensor([0, np.pi, 0])\r\n",
    "test2 = torch.tensor([0, np.pi, 0])\r\n",
    "\r\n",
    "cost_check = cost(test1, test2)\r\n",
    "print(\"Energy for [1, -1, -1] spin configuration:\", cost_check)"
   ],
   "outputs": [
    {
     "output_type": "stream",
     "name": "stdout",
     "text": [
      "Energy for [1, -1, -1] spin configuration: tensor(2.0000, dtype=torch.float64)\n"
     ]
    }
   ],
   "metadata": {}
  },
  {
   "cell_type": "code",
   "execution_count": 6,
   "source": [
    "\r\n",
    "\r\n",
    "###############################################################################\r\n",
    "# Random initialization\r\n",
    "# ^^^^^^^^^^^^^^^^^^^^^\r\n",
    "\r\n",
    "torch.manual_seed(56)\r\n",
    "p1 = Variable((np.pi * torch.rand(6, dtype=torch.float64)), requires_grad=True)\r\n",
    "p2 = Variable((np.pi * torch.rand(6, dtype=torch.float64)), requires_grad=True)\r\n",
    "\r\n",
    "var_init = [p1, p2]\r\n",
    "cost_init = cost(p1, p2)\r\n",
    "\r\n",
    "print(\"Randomly initialized angles:\")\r\n",
    "print(p1)\r\n",
    "print(p2)\r\n",
    "print(\"Corresponding cost before optimization:\")\r\n",
    "print(cost_init)"
   ],
   "outputs": [
    {
     "output_type": "stream",
     "name": "stdout",
     "text": [
      "Randomly initialized angles:\n",
      "tensor([1.9632, 2.6022, 2.3277, 0.6521, 2.8474, 2.4300], dtype=torch.float64,\n",
      "       requires_grad=True)\n",
      "tensor([1.8720, 0.7414, 2.2409, 0.3661, 2.8941, 1.6173], dtype=torch.float64,\n",
      "       requires_grad=True)\n",
      "Corresponding cost before optimization:\n",
      "tensor(0.2252, dtype=torch.float64, grad_fn=<SubBackward0>)\n"
     ]
    }
   ],
   "metadata": {}
  },
  {
   "cell_type": "code",
   "execution_count": 7,
   "source": [
    "opt = torch.optim.SGD(var_init, lr=0.1)\r\n",
    "\r\n",
    "def closure():\r\n",
    "    opt.zero_grad()\r\n",
    "    loss = cost(p1, p2)\r\n",
    "    loss.backward()\r\n",
    "    return loss\r\n",
    "\r\n",
    "var_pt = [var_init]\r\n",
    "cost_pt = [cost_init]\r\n",
    "x = [0]\r\n",
    "\r\n",
    "for i in range(100):\r\n",
    "    opt.step(closure)\r\n",
    "    if (i + 1) % 5 == 0:\r\n",
    "        x.append(i)\r\n",
    "        p1n, p2n = opt.param_groups[0][\"params\"]\r\n",
    "        costn = cost(p1n, p2n)\r\n",
    "        var_pt.append([p1n, p2n])\r\n",
    "        cost_pt.append(costn)\r\n",
    "\r\n",
    "        # for clarity, the angles are printed as numpy arrays\r\n",
    "        print(\"Energy after step {:5d}: {: .7f} | Angles: {}\".format(\r\n",
    "            i+1, costn, [p1n.detach().numpy(), p2n.detach().numpy()]),\"\\n\"\r\n",
    "        )"
   ],
   "outputs": [
    {
     "output_type": "stream",
     "name": "stdout",
     "text": [
      "Energy after step     5:  0.0982765 | Angles: [array([1.96323939, 2.55012328, 2.32767565, 0.65212549, 2.84741766,\n",
      "       2.4299563 ]), array([1.87199129, 0.49152944, 2.24092956, 0.36608333, 2.89414643,\n",
      "       1.61726366])] \n",
      "\n",
      "Energy after step    10:  0.0424750 | Angles: [array([1.96323939, 2.52533917, 2.32767565, 0.65212549, 2.84741766,\n",
      "       2.4299563 ]), array([1.87199129, 0.32405995, 2.24092956, 0.36608333, 2.89414643,\n",
      "       1.61726366])] \n",
      "\n",
      "Energy after step    15:  0.0183428 | Angles: [array([1.96323939, 2.51417993, 2.32767565, 0.65212549, 2.84741766,\n",
      "       2.4299563 ]), array([1.87199129, 0.21327986, 2.24092956, 0.36608333, 2.89414643,\n",
      "       1.61726366])] \n",
      "\n",
      "Energy after step    20:  0.0079246 | Angles: [array([1.96323939, 2.50927098, 2.32767565, 0.65212549, 2.84741766,\n",
      "       2.4299563 ]), array([1.87199129, 0.14028602, 2.24092956, 0.36608333, 2.89414643,\n",
      "       1.61726366])] \n",
      "\n",
      "Energy after step    25:  0.0034247 | Angles: [array([1.96323939, 2.50713286, 2.32767565, 0.65212549, 2.84741766,\n",
      "       2.4299563 ]), array([1.87199129, 0.09225282, 2.24092956, 0.36608333, 2.89414643,\n",
      "       1.61726366])] \n",
      "\n",
      "Energy after step    30:  0.0014803 | Angles: [array([1.96323939, 2.50620555, 2.32767565, 0.65212549, 2.84741766,\n",
      "       2.4299563 ]), array([1.87199129, 0.0606603 , 2.24092956, 0.36608333, 2.89414643,\n",
      "       1.61726366])] \n",
      "\n",
      "Energy after step    35:  0.0006399 | Angles: [array([1.96323939, 2.50580411, 2.32767565, 0.65212549, 2.84741766,\n",
      "       2.4299563 ]), array([1.87199129, 0.03988526, 2.24092956, 0.36608333, 2.89414643,\n",
      "       1.61726366])] \n",
      "\n",
      "Energy after step    40:  0.0002766 | Angles: [array([1.96323939, 2.50563046, 2.32767565, 0.65212549, 2.84741766,\n",
      "       2.4299563 ]), array([1.87199129, 0.02622485, 2.24092956, 0.36608333, 2.89414643,\n",
      "       1.61726366])] \n",
      "\n",
      "Energy after step    45:  0.0001196 | Angles: [array([1.96323939, 2.50555537, 2.32767565, 0.65212549, 2.84741766,\n",
      "       2.4299563 ]), array([1.87199129, 0.01724291, 2.24092956, 0.36608333, 2.89414643,\n",
      "       1.61726366])] \n",
      "\n",
      "Energy after step    50:  0.0000517 | Angles: [array([1.96323939, 2.5055229 , 2.32767565, 0.65212549, 2.84741766,\n",
      "       2.4299563 ]), array([1.87199129, 0.01133723, 2.24092956, 0.36608333, 2.89414643,\n",
      "       1.61726366])] \n",
      "\n",
      "Energy after step    55:  0.0000223 | Angles: [array([1.96323939, 2.50550887, 2.32767565, 0.65212549, 2.84741766,\n",
      "       2.4299563 ]), array([1.87199129, 0.00745422, 2.24092956, 0.36608333, 2.89414643,\n",
      "       1.61726366])] \n",
      "\n",
      "Energy after step    60:  0.0000097 | Angles: [array([1.96323939, 2.5055028 , 2.32767565, 0.65212549, 2.84741766,\n",
      "       2.4299563 ]), array([1.87199129, 0.00490115, 2.24092956, 0.36608333, 2.89414643,\n",
      "       1.61726366])] \n",
      "\n",
      "Energy after step    65:  0.0000042 | Angles: [array([1.96323939, 2.50550018, 2.32767565, 0.65212549, 2.84741766,\n",
      "       2.4299563 ]), array([1.87199129, 0.0032225 , 2.24092956, 0.36608333, 2.89414643,\n",
      "       1.61726366])] \n",
      "\n",
      "Energy after step    70:  0.0000018 | Angles: [array([1.96323939, 2.50549904, 2.32767565, 0.65212549, 2.84741766,\n",
      "       2.4299563 ]), array([1.87199129e+00, 2.11879140e-03, 2.24092956e+00, 3.66083331e-01,\n",
      "       2.89414643e+00, 1.61726366e+00])] \n",
      "\n",
      "Energy after step    75:  0.0000008 | Angles: [array([1.96323939, 2.50549855, 2.32767565, 0.65212549, 2.84741766,\n",
      "       2.4299563 ]), array([1.87199129e+00, 1.39310349e-03, 2.24092956e+00, 3.66083331e-01,\n",
      "       2.89414643e+00, 1.61726366e+00])] \n",
      "\n",
      "Energy after step    80:  0.0000003 | Angles: [array([1.96323939, 2.50549834, 2.32767565, 0.65212549, 2.84741766,\n",
      "       2.4299563 ]), array([1.87199129e+00, 9.15964308e-04, 2.24092956e+00, 3.66083331e-01,\n",
      "       2.89414643e+00, 1.61726366e+00])] \n",
      "\n",
      "Energy after step    85:  0.0000001 | Angles: [array([1.96323939, 2.50549825, 2.32767565, 0.65212549, 2.84741766,\n",
      "       2.4299563 ]), array([1.87199129e+00, 6.02245713e-04, 2.24092956e+00, 3.66083331e-01,\n",
      "       2.89414643e+00, 1.61726366e+00])] \n",
      "\n",
      "Energy after step    90:  0.0000001 | Angles: [array([1.96323939, 2.50549821, 2.32767565, 0.65212549, 2.84741766,\n",
      "       2.4299563 ]), array([1.87199129e+00, 3.95976016e-04, 2.24092956e+00, 3.66083331e-01,\n",
      "       2.89414643e+00, 1.61726366e+00])] \n",
      "\n",
      "Energy after step    95:  0.0000000 | Angles: [array([1.96323939, 2.50549819, 2.32767565, 0.65212549, 2.84741766,\n",
      "       2.4299563 ]), array([1.87199129e+00, 2.60353875e-04, 2.24092956e+00, 3.66083331e-01,\n",
      "       2.89414643e+00, 1.61726366e+00])] \n",
      "\n",
      "Energy after step   100:  0.0000000 | Angles: [array([1.96323939, 2.50549819, 2.32767565, 0.65212549, 2.84741766,\n",
      "       2.4299563 ]), array([1.87199129e+00, 1.71182439e-04, 2.24092956e+00, 3.66083331e-01,\n",
      "       2.89414643e+00, 1.61726366e+00])] \n",
      "\n"
     ]
    }
   ],
   "metadata": {}
  },
  {
   "cell_type": "code",
   "execution_count": 8,
   "source": [
    "p1_final, p2_final = opt.param_groups[0][\"params\"]\r\n",
    "print(\"Optimized angles:\")\r\n",
    "print(p1_final)\r\n",
    "print(p2_final)\r\n",
    "print(\"Final cost after optimization:\")\r\n",
    "print(cost(p1_final, p2_final))"
   ],
   "outputs": [
    {
     "output_type": "stream",
     "name": "stdout",
     "text": [
      "Optimized angles:\n",
      "tensor([1.9632, 2.5055, 2.3277, 0.6521, 2.8474, 2.4300], dtype=torch.float64,\n",
      "       requires_grad=True)\n",
      "tensor([1.8720e+00, 1.7118e-04, 2.2409e+00, 3.6608e-01, 2.8941e+00, 1.6173e+00],\n",
      "       dtype=torch.float64, requires_grad=True)\n",
      "Final cost after optimization:\n",
      "tensor(1.1786e-08, dtype=torch.float64, grad_fn=<SubBackward0>)\n"
     ]
    }
   ],
   "metadata": {}
  },
  {
   "cell_type": "code",
   "execution_count": 9,
   "source": [
    "import matplotlib\r\n",
    "\r\n",
    "import matplotlib.pyplot as plt"
   ],
   "outputs": [],
   "metadata": {}
  },
  {
   "cell_type": "code",
   "execution_count": 10,
   "source": [
    "fig = plt.figure(figsize=(6, 4))\r\n",
    "plt.plot(x, cost_pt, label = 'global minimum')\r\n",
    "plt.xlabel(\"Optimization steps\")\r\n",
    "plt.ylabel(\"Cost / Energy\")\r\n",
    "plt.legend()\r\n",
    "plt.show()"
   ],
   "outputs": [],
   "metadata": {}
  },
  {
   "cell_type": "code",
   "execution_count": null,
   "source": [
    "torch.manual_seed(9)\r\n",
    "p3 = Variable((np.pi*torch.rand(6, dtype = torch.float64)), requires_grad = True)\r\n",
    "p4 = Variable((np.pi*torch.rand(6, dtype = torch.float64)), requires_grad = True)\r\n",
    "\r\n",
    "var_init_loc = [p3, p4]\r\n",
    "cost_init_loc = cost(p3, p4)\r\n",
    "\r\n",
    "print(\"Corresponding cost before optimization:\")\r\n",
    "print(cost_init_loc)"
   ],
   "outputs": [
    {
     "output_type": "error",
     "ename": "Error",
     "evalue": "Session cannot generate requests",
     "traceback": [
      "Error: Session cannot generate requests",
      "at w.executeCodeCell (c:\\Users\\R\\.vscode\\extensions\\ms-toolsai.jupyter-2021.8.2041215044\\out\\client\\extension.js:52:301310)",
      "at w.execute (c:\\Users\\R\\.vscode\\extensions\\ms-toolsai.jupyter-2021.8.2041215044\\out\\client\\extension.js:52:300703)",
      "at w.start (c:\\Users\\R\\.vscode\\extensions\\ms-toolsai.jupyter-2021.8.2041215044\\out\\client\\extension.js:52:296367)",
      "at runMicrotasks (<anonymous>)",
      "at processTicksAndRejections (internal/process/task_queues.js:93:5)",
      "at async t.CellExecutionQueue.executeQueuedCells (c:\\Users\\R\\.vscode\\extensions\\ms-toolsai.jupyter-2021.8.2041215044\\out\\client\\extension.js:52:311160)",
      "at async t.CellExecutionQueue.start (c:\\Users\\R\\.vscode\\extensions\\ms-toolsai.jupyter-2021.8.2041215044\\out\\client\\extension.js:52:310700)"
     ]
    }
   ],
   "metadata": {}
  },
  {
   "cell_type": "code",
   "execution_count": null,
   "source": [
    "opt = torch.optim.SGD(var_init_loc, lr = 0.1)\r\n",
    "\r\n",
    "def closure():\r\n",
    "    opt.zero_grad()\r\n",
    "    loss = cost(p3, p4)\r\n",
    "    loss.backward()\r\n",
    "    return loss\r\n",
    "\r\n",
    "var_pt_loc = [var_init_loc]\r\n",
    "cost_pt_loc = [cost_init_loc]\r\n",
    "\r\n",
    "for j in range(100):\r\n",
    "    opt.step(closure)\r\n",
    "    if (j + 1) % 5 == 0:\r\n",
    "        p3n, p4n = opt.param_groups[0]['params']\r\n",
    "        costn = cost(p3n, p4n)\r\n",
    "        var_pt_loc.append([p3n, p4n])\r\n",
    "        cost_pt_loc.append(costn)\r\n",
    "\r\n",
    "        # for clarity, the angles are printed as numpy arrays\r\n",
    "        print('Energy after step {:5d}: {: .7f} | Angles: {}'.format(\r\n",
    "            j+1, costn, [p3n.detach().numpy(), p4n.detach().numpy()]),\"\\n\"\r\n",
    "        )"
   ],
   "outputs": [
    {
     "output_type": "stream",
     "name": "stdout",
     "text": [
      "Energy after step     5:  0.0215115 | Angles: [array([0.77369911, 2.6256898 , 1.07981163, 0.26038622, 0.13671156,\n",
      "       1.91060734]), array([0.32912747, 0.22285797, 0.48434304, 1.82595769, 1.75290459,\n",
      "       0.90792544])] \n",
      "\n",
      "Energy after step    10:  0.0087172 | Angles: [array([0.77369911, 2.62128106, 1.07981163, 0.26038622, 0.13671156,\n",
      "       1.91060734]), array([0.32912747, 0.14187011, 0.48434304, 1.82595769, 1.75290459,\n",
      "       0.90792544])] \n",
      "\n",
      "Energy after step    15:  0.0035267 | Angles: [array([0.77369911, 2.61948157, 1.07981163, 0.26038622, 0.13671156,\n",
      "       1.91060734]), array([0.32912747, 0.09023972, 0.48434304, 1.82595769, 1.75290459,\n",
      "       0.90792544])] \n",
      "\n",
      "Energy after step    20:  0.0014259 | Angles: [array([0.77369911, 2.6187514 , 1.07981163, 0.26038622, 0.13671156,\n",
      "       1.91060734]), array([0.32912747, 0.05738019, 0.48434304, 1.82595769, 1.75290459,\n",
      "       0.90792544])] \n",
      "\n",
      "Energy after step    25:  0.0005764 | Angles: [array([0.77369911, 2.61845583, 1.07981163, 0.26038622, 0.13671156,\n",
      "       1.91060734]), array([0.32912747, 0.03648117, 0.48434304, 1.82595769, 1.75290459,\n",
      "       0.90792544])] \n",
      "\n",
      "Energy after step    30:  0.0002330 | Angles: [array([0.77369911, 2.6183363 , 1.07981163, 0.26038622, 0.13671156,\n",
      "       1.91060734]), array([0.32912747, 0.02319276, 0.48434304, 1.82595769, 1.75290459,\n",
      "       0.90792544])] \n",
      "\n",
      "Energy after step    35:  0.0000941 | Angles: [array([0.77369911, 2.61828798, 1.07981163, 0.26038622, 0.13671156,\n",
      "       1.91060734]), array([0.32912747, 0.01474439, 0.48434304, 1.82595769, 1.75290459,\n",
      "       0.90792544])] \n",
      "\n",
      "Energy after step    40:  0.0000381 | Angles: [array([0.77369911, 2.61826845, 1.07981163, 0.26038622, 0.13671156,\n",
      "       1.91060734]), array([0.32912747, 0.0093734 , 0.48434304, 1.82595769, 1.75290459,\n",
      "       0.90792544])] \n",
      "\n",
      "Energy after step    45:  0.0000154 | Angles: [array([0.77369911, 2.61826055, 1.07981163, 0.26038622, 0.13671156,\n",
      "       1.91060734]), array([0.32912747, 0.0059589 , 0.48434304, 1.82595769, 1.75290459,\n",
      "       0.90792544])] \n",
      "\n",
      "Energy after step    50:  0.0000062 | Angles: [array([0.77369911, 2.61825736, 1.07981163, 0.26038622, 0.13671156,\n",
      "       1.91060734]), array([0.32912747, 0.00378821, 0.48434304, 1.82595769, 1.75290459,\n",
      "       0.90792544])] \n",
      "\n",
      "Energy after step    55:  0.0000025 | Angles: [array([0.77369911, 2.61825607, 1.07981163, 0.26038622, 0.13671156,\n",
      "       1.91060734]), array([0.32912747, 0.00240826, 0.48434304, 1.82595769, 1.75290459,\n",
      "       0.90792544])] \n",
      "\n",
      "Energy after step    60:  0.0000010 | Angles: [array([0.77369911, 2.61825555, 1.07981163, 0.26038622, 0.13671156,\n",
      "       1.91060734]), array([3.29127469e-01, 1.53098417e-03, 4.84343043e-01, 1.82595769e+00,\n",
      "       1.75290459e+00, 9.07925439e-01])] \n",
      "\n",
      "Energy after step    65:  0.0000004 | Angles: [array([0.77369911, 2.61825534, 1.07981163, 0.26038622, 0.13671156,\n",
      "       1.91060734]), array([3.29127469e-01, 9.73281951e-04, 4.84343043e-01, 1.82595769e+00,\n",
      "       1.75290459e+00, 9.07925439e-01])] \n",
      "\n",
      "Energy after step    70:  0.0000002 | Angles: [array([0.77369911, 2.61825526, 1.07981163, 0.26038622, 0.13671156,\n",
      "       1.91060734]), array([3.29127469e-01, 6.18737762e-04, 4.84343043e-01, 1.82595769e+00,\n",
      "       1.75290459e+00, 9.07925439e-01])] \n",
      "\n",
      "Energy after step    75:  0.0000001 | Angles: [array([0.77369911, 2.61825522, 1.07981163, 0.26038622, 0.13671156,\n",
      "       1.91060734]), array([3.29127469e-01, 3.93345845e-04, 4.84343043e-01, 1.82595769e+00,\n",
      "       1.75290459e+00, 9.07925439e-01])] \n",
      "\n",
      "Energy after step    80:  0.0000000 | Angles: [array([0.77369911, 2.61825521, 1.07981163, 0.26038622, 0.13671156,\n",
      "       1.91060734]), array([3.29127469e-01, 2.50059012e-04, 4.84343043e-01, 1.82595769e+00,\n",
      "       1.75290459e+00, 9.07925439e-01])] \n",
      "\n",
      "Energy after step    85:  0.0000000 | Angles: [array([0.77369911, 2.6182552 , 1.07981163, 0.26038622, 0.13671156,\n",
      "       1.91060734]), array([3.29127469e-01, 1.58968271e-04, 4.84343043e-01, 1.82595769e+00,\n",
      "       1.75290459e+00, 9.07925439e-01])] \n",
      "\n",
      "Energy after step    90:  0.0000000 | Angles: [array([0.77369911, 2.6182552 , 1.07981163, 0.26038622, 0.13671156,\n",
      "       1.91060734]), array([3.29127469e-01, 1.01059790e-04, 4.84343043e-01, 1.82595769e+00,\n",
      "       1.75290459e+00, 9.07925439e-01])] \n",
      "\n",
      "Energy after step    95:  0.0000000 | Angles: [array([0.77369911, 2.6182552 , 1.07981163, 0.26038622, 0.13671156,\n",
      "       1.91060734]), array([3.29127469e-01, 6.42460356e-05, 4.84343043e-01, 1.82595769e+00,\n",
      "       1.75290459e+00, 9.07925439e-01])] \n",
      "\n",
      "Energy after step   100:  0.0000000 | Angles: [array([0.77369911, 2.6182552 , 1.07981163, 0.26038622, 0.13671156,\n",
      "       1.91060734]), array([3.29127469e-01, 4.08426841e-05, 4.84343043e-01, 1.82595769e+00,\n",
      "       1.75290459e+00, 9.07925439e-01])] \n",
      "\n"
     ]
    }
   ],
   "metadata": {}
  },
  {
   "cell_type": "code",
   "execution_count": null,
   "source": [
    "fig = plt.figure(figsize=(6, 4))\r\n",
    "plt.plot(x, cost_pt_loc, 'r', label = 'local minimum')\r\n",
    "plt.xlabel(\"Optimization steps\")\r\n",
    "plt.ylabel(\"Cost / Energy\")\r\n",
    "plt.legend()\r\n",
    "plt.show()"
   ],
   "outputs": [
    {
     "output_type": "display_data",
     "data": {
      "image/png": "[encoded data removed]",
      "text/plain": [
       "<Figure size 432x288 with 1 Axes>"
      ]
     },
     "metadata": {
      "needs_background": "light"
     }
    }
   ],
   "metadata": {}
  }
 ],
 "metadata": {
  "orig_nbformat": 4,
  "language_info": {
   "name": "python",
   "version": "3.8.3",
   "mimetype": "text/x-python",
   "codemirror_mode": {
    "name": "ipython",
    "version": 3
   },
   "pygments_lexer": "ipython3",
   "nbconvert_exporter": "python",
   "file_extension": ".py"
  },
  "kernelspec": {
   "name": "python3",
   "display_name": "Python 3.8.3 64-bit ('base': conda)"
  },
  "interpreter": {
   "hash": "052858c8ea52de5449dd4478ffce02c0c090c416b8257ef52218fa0aed31b1b2"
  }
 },
 "nbformat": 4,
 "nbformat_minor": 2
}