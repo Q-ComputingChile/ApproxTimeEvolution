{
 "cells": [
  {
   "cell_type": "code",
   "execution_count": 6,
   "source": [
    "import pennylane as qml"
   ],
   "outputs": [],
   "metadata": {}
  },
  {
   "cell_type": "code",
   "execution_count": 7,
   "source": [
    "from pennylane.templates import ApproxTimeEvolution"
   ],
   "outputs": [],
   "metadata": {}
  },
  {
   "cell_type": "code",
   "execution_count": 8,
   "source": [
    "####\r\n",
    "#Trotter-Suzuki <https://en.wikipedia.org/wiki/Lie_product_formula>decomposition formula\r\n",
    "#we can implement an approximate time-evolution unitary\r\n",
    "#In PennyLane, this is implemented using the :func:\"~.pennylane.templates.ApproxTimeEvolution\" template\r\n",
    "####\r\n",
    "H = qml.Hamiltonian(\r\n",
    "    [1, 1, 0.5],\r\n",
    "    [qml.PauliX(0), qml.PauliZ(1), qml.PauliX(0) @ qml.PauliX(1)]\r\n",
    ")\r\n",
    "print(H)"
   ],
   "outputs": [
    {
     "output_type": "stream",
     "name": "stdout",
     "text": [
      "  (1) [X0]\n",
      "+ (1) [Z1]\n",
      "+ (0.5) [X0 X1]\n"
     ]
    }
   ],
   "metadata": {}
  },
  {
   "cell_type": "code",
   "execution_count": 9,
   "source": [
    "dev = qml.device('default.qubit', wires=2)\r\n",
    "\r\n",
    "##t = 1\r\n",
    "n = 4\r\n",
    "\r\n",
    "@qml.qnode(dev)\r\n",
    "def circuit(time):\r\n",
    "    qml.templates.ApproxTimeEvolution(H, time, n)\r\n",
    "    return [qml.expval(qml.PauliZ(i)) for i in range(2)]\r\n",
    "\r\n",
    "circuit(4)\r\n",
    "print(circuit.draw())"
   ],
   "outputs": [
    {
     "output_type": "stream",
     "name": "stdout",
     "text": [
      " 0: ──H──────RZ(2)──H──H──╭RZ(1)──H──H──────RZ(2)──H──H──╭RZ(1)──H──H──────RZ(2)──H──H──╭RZ(1)──H──H──────RZ(2)──H──H──╭RZ(1)──H──┤ ⟨Z⟩ \n",
      " 1: ──RZ(2)──H────────────╰RZ(1)──H──RZ(2)──H────────────╰RZ(1)──H──RZ(2)──H────────────╰RZ(1)──H──RZ(2)──H────────────╰RZ(1)──H──┤ ⟨Z⟩ \n",
      "\n"
     ]
    }
   ],
   "metadata": {}
  },
  {
   "cell_type": "code",
   "execution_count": 10,
   "source": [
    "##tensor##\r\n",
    "circuit(4)"
   ],
   "outputs": [
    {
     "output_type": "execute_result",
     "data": {
      "text/plain": [
       "tensor([-0.07262567,  0.49914539], requires_grad=True)"
      ]
     },
     "metadata": {},
     "execution_count": 10
    }
   ],
   "metadata": {}
  },
  {
   "cell_type": "code",
   "execution_count": 11,
   "source": [
    "##This template uses the PauliRot operation in order to implement exponentiated terms \r\n",
    "##of the input Hamiltonian. This operation only takes terms that are explicitly \r\n",
    "##written in terms of products of Pauli matrices (PauliX, PauliY, PauliZ, and Identity).\r\n",
    "## This, each term in the Hamiltonian must be expressed this way upon input,\r\n",
    "## or else an error will be raised.##\r\n",
    "\r\n",
    "\r\n",
    "##Parameters##\r\n",
    "## hamiltonian (Hamiltonian) – The Hamiltonian defining the time-evolution operator.\r\n",
    "###The Hamiltonian must be explicitly written in terms of products of Pauli gates,\r\n",
    "##(PauliX, PauliY, PauliZ, and Identity).\r\n",
    "###\r\n",
    "## time (int or float) – The time of evolution, namely the parameter t in e−iHt.\r\n",
    "###\r\n",
    "## n(int)–The number of Trotter steps used when approximating the time-evolution operator.\r\n",
    "\r\n",
    "n_wires = 2\r\n",
    "wires = range(n_wires)\r\n",
    "\r\n",
    "dev = qml.device('default.qubit', wires=n_wires)\r\n",
    "\r\n",
    "coeffs = [1, 1]\r\n",
    "obs = [qml.PauliX(0), qml.PauliX(1)]\r\n",
    "hamiltonian = qml.Hamiltonian(coeffs, obs)\r\n",
    "\r\n",
    "@qml.qnode(dev)\r\n",
    "def circuit(time):\r\n",
    "    ApproxTimeEvolution(hamiltonian, time, 4)\r\n",
    "    return [qml.expval(qml.PauliZ(wires=i)) for i in wires]"
   ],
   "outputs": [],
   "metadata": {}
  },
  {
   "cell_type": "code",
   "execution_count": 12,
   "source": [
    "circuit(4)"
   ],
   "outputs": [
    {
     "output_type": "execute_result",
     "data": {
      "text/plain": [
       "tensor([-0.14550003, -0.14550003], requires_grad=True)"
      ]
     },
     "metadata": {},
     "execution_count": 12
    }
   ],
   "metadata": {}
  },
  {
   "cell_type": "code",
   "execution_count": 13,
   "source": [
    "circuit(4)\r\n",
    "print(circuit.draw())\r\n"
   ],
   "outputs": [
    {
     "output_type": "stream",
     "name": "stdout",
     "text": [
      " 0: ──H──RZ(2)──H──H──RZ(2)──H──H──RZ(2)──H──H──RZ(2)──H──┤ ⟨Z⟩ \n",
      " 1: ──H──RZ(2)──H──H──RZ(2)──H──H──RZ(2)──H──H──RZ(2)──H──┤ ⟨Z⟩ \n",
      "\n"
     ]
    }
   ],
   "metadata": {}
  }
 ],
 "metadata": {
  "orig_nbformat": 4,
  "language_info": {
   "name": "python",
   "version": "3.8.3",
   "mimetype": "text/x-python",
   "codemirror_mode": {
    "name": "ipython",
    "version": 3
   },
   "pygments_lexer": "ipython3",
   "nbconvert_exporter": "python",
   "file_extension": ".py"
  },
  "kernelspec": {
   "name": "python3",
   "display_name": "Python 3.8.3 64-bit ('base': conda)"
  },
  "interpreter": {
   "hash": "052858c8ea52de5449dd4478ffce02c0c090c416b8257ef52218fa0aed31b1b2"
  }
 },
 "nbformat": 4,
 "nbformat_minor": 2
}