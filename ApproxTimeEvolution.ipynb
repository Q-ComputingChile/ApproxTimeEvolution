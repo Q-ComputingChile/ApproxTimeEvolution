{
 "cells": [
  {
   "cell_type": "code",
   "execution_count": 10,
   "source": [
    "import pennylane as qml"
   ],
   "outputs": [],
   "metadata": {}
  },
  {
   "cell_type": "code",
   "execution_count": 11,
   "source": [
    "from pennylane.templates import ApproxTimeEvolution"
   ],
   "outputs": [],
   "metadata": {}
  },
  {
   "cell_type": "code",
   "execution_count": 12,
   "source": [
    "####\r\n",
    "#Trotter-Suzuki <https://en.wikipedia.org/wiki/Lie_product_formula>decomposition formula\r\n",
    "#we can implement an approximate time-evolution unitary\r\n",
    "#In PennyLane, this is implemented using the :func:\"~.pennylane.templates.ApproxTimeEvolution\" template\r\n",
    "####\r\n",
    "H = qml.Hamiltonian(\r\n",
    "    [1, 1, 0.5],\r\n",
    "    [qml.PauliX(0), qml.PauliZ(1), qml.PauliX(0) @ qml.PauliX(1)]\r\n",
    ")\r\n",
    "print(H)"
   ],
   "outputs": [
    {
     "output_type": "stream",
     "name": "stdout",
     "text": [
      "  (1) [X0]\n",
      "+ (1) [Z1]\n",
      "+ (0.5) [X0 X1]\n"
     ]
    }
   ],
   "metadata": {}
  },
  {
   "cell_type": "code",
   "execution_count": 13,
   "source": [
    "dev = qml.device('default.qubit', wires=2)\r\n",
    "\r\n",
    "t = 6\r\n",
    "n = 12\r\n",
    "\r\n",
    "@qml.qnode(dev)\r\n",
    "def circuit():\r\n",
    "    qml.templates.ApproxTimeEvolution(H, t, n)\r\n",
    "    return [qml.expval(qml.PauliZ(i)) for i in range(2)]\r\n",
    "\r\n",
    "circuit()\r\n",
    "print(circuit.draw())"
   ],
   "outputs": [
    {
     "output_type": "stream",
     "name": "stdout",
     "text": [
      " 0: ──H─────────RZ(0.75)──H──H──╭RZ(0.375)──H──H─────────RZ(0.75)──H──H──╭RZ(0.375)──H──H─────────RZ(0.75)──H──H──╭RZ(0.375)──H──H─────────RZ(0.75)──H──H──╭RZ(0.375)──H──H─────────RZ(0.75)──H──H──╭RZ(0.375)──H──H─────────RZ(0.75)──H──H──╭RZ(0.375)──H──H─────────RZ(0.75)──H──H──╭RZ(0.375)──H──H─────────RZ(0.75)──H──H──╭RZ(0.375)──H──H─────────RZ(0.75)──H──H──╭RZ(0.375)──H──H─────────RZ(0.75)──H──H──╭RZ(0.375)──H──H─────────RZ(0.75)──H──H──╭RZ(0.375)──H──H─────────RZ(0.75)──H──H──╭RZ(0.375)──H──H─────────RZ(0.75)──H──H──╭RZ(0.375)──H──H─────────RZ(0.75)──H──H──╭RZ(0.375)──H──H─────────RZ(0.75)──H──H──╭RZ(0.375)──H──H─────────RZ(0.75)──H──H──╭RZ(0.375)──H──┤ ⟨Z⟩ \n",
      " 1: ──RZ(0.75)──H───────────────╰RZ(0.375)──H──RZ(0.75)──H───────────────╰RZ(0.375)──H──RZ(0.75)──H───────────────╰RZ(0.375)──H──RZ(0.75)──H───────────────╰RZ(0.375)──H──RZ(0.75)──H───────────────╰RZ(0.375)──H──RZ(0.75)──H───────────────╰RZ(0.375)──H──RZ(0.75)──H───────────────╰RZ(0.375)──H──RZ(0.75)──H───────────────╰RZ(0.375)──H──RZ(0.75)──H───────────────╰RZ(0.375)──H──RZ(0.75)──H───────────────╰RZ(0.375)──H──RZ(0.75)──H───────────────╰RZ(0.375)──H──RZ(0.75)──H───────────────╰RZ(0.375)──H──RZ(0.75)──H───────────────╰RZ(0.375)──H──RZ(0.75)──H───────────────╰RZ(0.375)──H──RZ(0.75)──H───────────────╰RZ(0.375)──H──RZ(0.75)──H───────────────╰RZ(0.375)──H──┤ ⟨Z⟩ \n",
      "\n"
     ]
    }
   ],
   "metadata": {}
  }
 ],
 "metadata": {
  "orig_nbformat": 4,
  "language_info": {
   "name": "python",
   "version": "3.8.3",
   "mimetype": "text/x-python",
   "codemirror_mode": {
    "name": "ipython",
    "version": 3
   },
   "pygments_lexer": "ipython3",
   "nbconvert_exporter": "python",
   "file_extension": ".py"
  },
  "kernelspec": {
   "name": "python3",
   "display_name": "Python 3.8.3 64-bit ('base': conda)"
  },
  "interpreter": {
   "hash": "052858c8ea52de5449dd4478ffce02c0c090c416b8257ef52218fa0aed31b1b2"
  }
 },
 "nbformat": 4,
 "nbformat_minor": 2
}